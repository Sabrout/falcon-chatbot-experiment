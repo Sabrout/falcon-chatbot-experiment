{
 "cells": [
  {
   "cell_type": "markdown",
   "metadata": {},
   "source": [
    "# Example notebook to run the chatbot using OpenAI GPT3.5 turbo with an AI Key"
   ]
  },
  {
   "cell_type": "markdown",
   "metadata": {},
   "source": [
    "Install prerequisites:"
   ]
  },
  {
   "cell_type": "code",
   "execution_count": 1,
   "metadata": {},
   "outputs": [
    {
     "name": "stdout",
     "output_type": "stream",
     "text": [
      "Requirement already satisfied: accelerate in /Users/sabrout/opt/miniconda3/envs/weloop/lib/python3.10/site-packages (from -r requirements.txt (line 1)) (0.23.0)\n",
      "Requirement already satisfied: bitsandbytes in /Users/sabrout/opt/miniconda3/envs/weloop/lib/python3.10/site-packages (from -r requirements.txt (line 2)) (0.41.1)\n",
      "Requirement already satisfied: bottle==0.12.19 in /Users/sabrout/opt/miniconda3/envs/weloop/lib/python3.10/site-packages (from -r requirements.txt (line 3)) (0.12.19)\n",
      "Requirement already satisfied: chromadb in /Users/sabrout/opt/miniconda3/envs/weloop/lib/python3.10/site-packages (from -r requirements.txt (line 4)) (0.4.11)\n",
      "Requirement already satisfied: einops in /Users/sabrout/opt/miniconda3/envs/weloop/lib/python3.10/site-packages (from -r requirements.txt (line 5)) (0.6.1)\n",
      "Requirement already satisfied: ipykernel==6.4.1 in /Users/sabrout/opt/miniconda3/envs/weloop/lib/python3.10/site-packages (from -r requirements.txt (line 6)) (6.4.1)\n",
      "Requirement already satisfied: ipywidgets in /Users/sabrout/opt/miniconda3/envs/weloop/lib/python3.10/site-packages (from -r requirements.txt (line 7)) (8.1.1)\n",
      "Requirement already satisfied: langchain in /Users/sabrout/opt/miniconda3/envs/weloop/lib/python3.10/site-packages (from -r requirements.txt (line 8)) (0.0.295)\n",
      "Requirement already satisfied: matplotlib in /Users/sabrout/opt/miniconda3/envs/weloop/lib/python3.10/site-packages (from -r requirements.txt (line 9)) (3.8.0)\n",
      "Requirement already satisfied: numpy in /Users/sabrout/opt/miniconda3/envs/weloop/lib/python3.10/site-packages (from -r requirements.txt (line 10)) (1.26.0)\n",
      "Requirement already satisfied: openai in /Users/sabrout/opt/miniconda3/envs/weloop/lib/python3.10/site-packages (from -r requirements.txt (line 11)) (0.28.0)\n",
      "Requirement already satisfied: pandas in /Users/sabrout/opt/miniconda3/envs/weloop/lib/python3.10/site-packages (from -r requirements.txt (line 12)) (2.1.0)\n",
      "Requirement already satisfied: pandoc in /Users/sabrout/opt/miniconda3/envs/weloop/lib/python3.10/site-packages (from -r requirements.txt (line 13)) (2.3)\n",
      "Requirement already satisfied: paste==3.5.0 in /Users/sabrout/opt/miniconda3/envs/weloop/lib/python3.10/site-packages (from -r requirements.txt (line 14)) (3.5.0)\n",
      "Requirement already satisfied: scikit-learn in /Users/sabrout/opt/miniconda3/envs/weloop/lib/python3.10/site-packages (from -r requirements.txt (line 15)) (1.3.0)\n",
      "Requirement already satisfied: scipy in /Users/sabrout/opt/miniconda3/envs/weloop/lib/python3.10/site-packages (from -r requirements.txt (line 16)) (1.11.2)\n",
      "Requirement already satisfied: sentencepiece in /Users/sabrout/opt/miniconda3/envs/weloop/lib/python3.10/site-packages (from -r requirements.txt (line 17)) (0.1.99)\n",
      "Requirement already satisfied: tiktoken in /Users/sabrout/opt/miniconda3/envs/weloop/lib/python3.10/site-packages (from -r requirements.txt (line 18)) (0.5.1)\n",
      "Requirement already satisfied: torch in /Users/sabrout/opt/miniconda3/envs/weloop/lib/python3.10/site-packages (from -r requirements.txt (line 19)) (2.2.0.dev20230920)\n",
      "Requirement already satisfied: torchvision in /Users/sabrout/opt/miniconda3/envs/weloop/lib/python3.10/site-packages (from -r requirements.txt (line 20)) (0.17.0.dev20230920)\n",
      "Requirement already satisfied: torchaudio in /Users/sabrout/opt/miniconda3/envs/weloop/lib/python3.10/site-packages (from -r requirements.txt (line 21)) (2.2.0.dev20230920)\n",
      "Requirement already satisfied: tqdm in /Users/sabrout/opt/miniconda3/envs/weloop/lib/python3.10/site-packages (from -r requirements.txt (line 22)) (4.66.1)\n",
      "Requirement already satisfied: transformers==4.30 in /Users/sabrout/opt/miniconda3/envs/weloop/lib/python3.10/site-packages (from -r requirements.txt (line 23)) (4.30.0)\n",
      "Requirement already satisfied: unstructured in /Users/sabrout/opt/miniconda3/envs/weloop/lib/python3.10/site-packages (from -r requirements.txt (line 24)) (0.10.15)\n",
      "Requirement already satisfied: ipython-genutils in /Users/sabrout/opt/miniconda3/envs/weloop/lib/python3.10/site-packages (from ipykernel==6.4.1->-r requirements.txt (line 6)) (0.2.0)\n",
      "Requirement already satisfied: debugpy<2.0,>=1.0.0 in /Users/sabrout/opt/miniconda3/envs/weloop/lib/python3.10/site-packages (from ipykernel==6.4.1->-r requirements.txt (line 6)) (1.6.7)\n",
      "Requirement already satisfied: ipython<8.0,>=7.23.1 in /Users/sabrout/opt/miniconda3/envs/weloop/lib/python3.10/site-packages (from ipykernel==6.4.1->-r requirements.txt (line 6)) (7.34.0)\n",
      "Requirement already satisfied: traitlets<6.0,>=4.1.0 in /Users/sabrout/opt/miniconda3/envs/weloop/lib/python3.10/site-packages (from ipykernel==6.4.1->-r requirements.txt (line 6)) (5.10.0)\n",
      "Requirement already satisfied: jupyter-client<8.0 in /Users/sabrout/opt/miniconda3/envs/weloop/lib/python3.10/site-packages (from ipykernel==6.4.1->-r requirements.txt (line 6)) (7.4.9)\n",
      "Requirement already satisfied: tornado<7.0,>=4.2 in /Users/sabrout/opt/miniconda3/envs/weloop/lib/python3.10/site-packages (from ipykernel==6.4.1->-r requirements.txt (line 6)) (6.3.2)\n",
      "Requirement already satisfied: matplotlib-inline<0.2.0,>=0.1.0 in /Users/sabrout/opt/miniconda3/envs/weloop/lib/python3.10/site-packages (from ipykernel==6.4.1->-r requirements.txt (line 6)) (0.1.6)\n",
      "Requirement already satisfied: appnope in /Users/sabrout/opt/miniconda3/envs/weloop/lib/python3.10/site-packages (from ipykernel==6.4.1->-r requirements.txt (line 6)) (0.1.3)\n",
      "Requirement already satisfied: setuptools in /Users/sabrout/opt/miniconda3/envs/weloop/lib/python3.10/site-packages (from paste==3.5.0->-r requirements.txt (line 14)) (68.0.0)\n",
      "Requirement already satisfied: six>=1.4.0 in /Users/sabrout/opt/miniconda3/envs/weloop/lib/python3.10/site-packages (from paste==3.5.0->-r requirements.txt (line 14)) (1.16.0)\n",
      "Requirement already satisfied: filelock in /Users/sabrout/opt/miniconda3/envs/weloop/lib/python3.10/site-packages (from transformers==4.30->-r requirements.txt (line 23)) (3.12.4)\n",
      "Requirement already satisfied: huggingface-hub<1.0,>=0.14.1 in /Users/sabrout/opt/miniconda3/envs/weloop/lib/python3.10/site-packages (from transformers==4.30->-r requirements.txt (line 23)) (0.16.4)\n",
      "Requirement already satisfied: packaging>=20.0 in /Users/sabrout/opt/miniconda3/envs/weloop/lib/python3.10/site-packages (from transformers==4.30->-r requirements.txt (line 23)) (23.1)\n",
      "Requirement already satisfied: pyyaml>=5.1 in /Users/sabrout/opt/miniconda3/envs/weloop/lib/python3.10/site-packages (from transformers==4.30->-r requirements.txt (line 23)) (6.0.1)\n",
      "Requirement already satisfied: regex!=2019.12.17 in /Users/sabrout/opt/miniconda3/envs/weloop/lib/python3.10/site-packages (from transformers==4.30->-r requirements.txt (line 23)) (2023.8.8)\n",
      "Requirement already satisfied: requests in /Users/sabrout/opt/miniconda3/envs/weloop/lib/python3.10/site-packages (from transformers==4.30->-r requirements.txt (line 23)) (2.31.0)\n",
      "Requirement already satisfied: tokenizers!=0.11.3,<0.14,>=0.11.1 in /Users/sabrout/opt/miniconda3/envs/weloop/lib/python3.10/site-packages (from transformers==4.30->-r requirements.txt (line 23)) (0.13.3)\n",
      "Requirement already satisfied: safetensors>=0.3.1 in /Users/sabrout/opt/miniconda3/envs/weloop/lib/python3.10/site-packages (from transformers==4.30->-r requirements.txt (line 23)) (0.3.3)\n",
      "Requirement already satisfied: psutil in /Users/sabrout/opt/miniconda3/envs/weloop/lib/python3.10/site-packages (from accelerate->-r requirements.txt (line 1)) (5.9.0)\n",
      "Requirement already satisfied: pydantic<2.0,>=1.9 in /Users/sabrout/opt/miniconda3/envs/weloop/lib/python3.10/site-packages (from chromadb->-r requirements.txt (line 4)) (1.10.12)\n",
      "Requirement already satisfied: chroma-hnswlib==0.7.3 in /Users/sabrout/opt/miniconda3/envs/weloop/lib/python3.10/site-packages (from chromadb->-r requirements.txt (line 4)) (0.7.3)\n",
      "Requirement already satisfied: fastapi<0.100.0,>=0.95.2 in /Users/sabrout/opt/miniconda3/envs/weloop/lib/python3.10/site-packages (from chromadb->-r requirements.txt (line 4)) (0.99.1)\n",
      "Requirement already satisfied: uvicorn[standard]>=0.18.3 in /Users/sabrout/opt/miniconda3/envs/weloop/lib/python3.10/site-packages (from chromadb->-r requirements.txt (line 4)) (0.23.2)\n",
      "Requirement already satisfied: posthog>=2.4.0 in /Users/sabrout/opt/miniconda3/envs/weloop/lib/python3.10/site-packages (from chromadb->-r requirements.txt (line 4)) (3.0.2)\n",
      "Requirement already satisfied: typing-extensions>=4.5.0 in /Users/sabrout/opt/miniconda3/envs/weloop/lib/python3.10/site-packages (from chromadb->-r requirements.txt (line 4)) (4.8.0)\n",
      "Requirement already satisfied: pulsar-client>=3.1.0 in /Users/sabrout/opt/miniconda3/envs/weloop/lib/python3.10/site-packages (from chromadb->-r requirements.txt (line 4)) (3.3.0)\n",
      "Requirement already satisfied: onnxruntime>=1.14.1 in /Users/sabrout/opt/miniconda3/envs/weloop/lib/python3.10/site-packages (from chromadb->-r requirements.txt (line 4)) (1.15.1)\n",
      "Requirement already satisfied: pypika>=0.48.9 in /Users/sabrout/opt/miniconda3/envs/weloop/lib/python3.10/site-packages (from chromadb->-r requirements.txt (line 4)) (0.48.9)\n",
      "Requirement already satisfied: overrides>=7.3.1 in /Users/sabrout/opt/miniconda3/envs/weloop/lib/python3.10/site-packages (from chromadb->-r requirements.txt (line 4)) (7.4.0)\n",
      "Requirement already satisfied: importlib-resources in /Users/sabrout/opt/miniconda3/envs/weloop/lib/python3.10/site-packages (from chromadb->-r requirements.txt (line 4)) (6.0.1)\n",
      "Requirement already satisfied: bcrypt>=4.0.1 in /Users/sabrout/opt/miniconda3/envs/weloop/lib/python3.10/site-packages (from chromadb->-r requirements.txt (line 4)) (4.0.1)\n",
      "Requirement already satisfied: typer>=0.9.0 in /Users/sabrout/opt/miniconda3/envs/weloop/lib/python3.10/site-packages (from chromadb->-r requirements.txt (line 4)) (0.9.0)\n",
      "Requirement already satisfied: comm>=0.1.3 in /Users/sabrout/opt/miniconda3/envs/weloop/lib/python3.10/site-packages (from ipywidgets->-r requirements.txt (line 7)) (0.1.4)\n",
      "Requirement already satisfied: widgetsnbextension~=4.0.9 in /Users/sabrout/opt/miniconda3/envs/weloop/lib/python3.10/site-packages (from ipywidgets->-r requirements.txt (line 7)) (4.0.9)\n",
      "Requirement already satisfied: jupyterlab-widgets~=3.0.9 in /Users/sabrout/opt/miniconda3/envs/weloop/lib/python3.10/site-packages (from ipywidgets->-r requirements.txt (line 7)) (3.0.9)\n",
      "Requirement already satisfied: SQLAlchemy<3,>=1.4 in /Users/sabrout/opt/miniconda3/envs/weloop/lib/python3.10/site-packages (from langchain->-r requirements.txt (line 8)) (2.0.21)\n",
      "Requirement already satisfied: aiohttp<4.0.0,>=3.8.3 in /Users/sabrout/opt/miniconda3/envs/weloop/lib/python3.10/site-packages (from langchain->-r requirements.txt (line 8)) (3.8.5)\n",
      "Requirement already satisfied: async-timeout<5.0.0,>=4.0.0 in /Users/sabrout/opt/miniconda3/envs/weloop/lib/python3.10/site-packages (from langchain->-r requirements.txt (line 8)) (4.0.3)\n",
      "Requirement already satisfied: dataclasses-json<0.6.0,>=0.5.7 in /Users/sabrout/opt/miniconda3/envs/weloop/lib/python3.10/site-packages (from langchain->-r requirements.txt (line 8)) (0.5.14)\n",
      "Requirement already satisfied: langsmith<0.1.0,>=0.0.38 in /Users/sabrout/opt/miniconda3/envs/weloop/lib/python3.10/site-packages (from langchain->-r requirements.txt (line 8)) (0.0.38)\n",
      "Requirement already satisfied: numexpr<3.0.0,>=2.8.4 in /Users/sabrout/opt/miniconda3/envs/weloop/lib/python3.10/site-packages (from langchain->-r requirements.txt (line 8)) (2.8.6)\n",
      "Requirement already satisfied: tenacity<9.0.0,>=8.1.0 in /Users/sabrout/opt/miniconda3/envs/weloop/lib/python3.10/site-packages (from langchain->-r requirements.txt (line 8)) (8.2.3)\n",
      "Requirement already satisfied: contourpy>=1.0.1 in /Users/sabrout/opt/miniconda3/envs/weloop/lib/python3.10/site-packages (from matplotlib->-r requirements.txt (line 9)) (1.1.1)\n",
      "Requirement already satisfied: cycler>=0.10 in /Users/sabrout/opt/miniconda3/envs/weloop/lib/python3.10/site-packages (from matplotlib->-r requirements.txt (line 9)) (0.11.0)\n",
      "Requirement already satisfied: fonttools>=4.22.0 in /Users/sabrout/opt/miniconda3/envs/weloop/lib/python3.10/site-packages (from matplotlib->-r requirements.txt (line 9)) (4.42.1)\n",
      "Requirement already satisfied: kiwisolver>=1.0.1 in /Users/sabrout/opt/miniconda3/envs/weloop/lib/python3.10/site-packages (from matplotlib->-r requirements.txt (line 9)) (1.4.5)\n",
      "Requirement already satisfied: pillow>=6.2.0 in /Users/sabrout/opt/miniconda3/envs/weloop/lib/python3.10/site-packages (from matplotlib->-r requirements.txt (line 9)) (10.0.1)\n",
      "Requirement already satisfied: pyparsing>=2.3.1 in /Users/sabrout/opt/miniconda3/envs/weloop/lib/python3.10/site-packages (from matplotlib->-r requirements.txt (line 9)) (3.1.1)\n",
      "Requirement already satisfied: python-dateutil>=2.7 in /Users/sabrout/opt/miniconda3/envs/weloop/lib/python3.10/site-packages (from matplotlib->-r requirements.txt (line 9)) (2.8.2)\n",
      "Requirement already satisfied: pytz>=2020.1 in /Users/sabrout/opt/miniconda3/envs/weloop/lib/python3.10/site-packages (from pandas->-r requirements.txt (line 12)) (2023.3.post1)\n",
      "Requirement already satisfied: tzdata>=2022.1 in /Users/sabrout/opt/miniconda3/envs/weloop/lib/python3.10/site-packages (from pandas->-r requirements.txt (line 12)) (2023.3)\n",
      "Requirement already satisfied: plumbum in /Users/sabrout/opt/miniconda3/envs/weloop/lib/python3.10/site-packages (from pandoc->-r requirements.txt (line 13)) (1.8.2)\n",
      "Requirement already satisfied: ply in /Users/sabrout/opt/miniconda3/envs/weloop/lib/python3.10/site-packages (from pandoc->-r requirements.txt (line 13)) (3.11)\n",
      "Requirement already satisfied: joblib>=1.1.1 in /Users/sabrout/opt/miniconda3/envs/weloop/lib/python3.10/site-packages (from scikit-learn->-r requirements.txt (line 15)) (1.3.2)\n",
      "Requirement already satisfied: threadpoolctl>=2.0.0 in /Users/sabrout/opt/miniconda3/envs/weloop/lib/python3.10/site-packages (from scikit-learn->-r requirements.txt (line 15)) (3.2.0)\n",
      "Requirement already satisfied: sympy in /Users/sabrout/opt/miniconda3/envs/weloop/lib/python3.10/site-packages (from torch->-r requirements.txt (line 19)) (1.12)\n",
      "Requirement already satisfied: networkx in /Users/sabrout/opt/miniconda3/envs/weloop/lib/python3.10/site-packages (from torch->-r requirements.txt (line 19)) (3.1)\n",
      "Requirement already satisfied: jinja2 in /Users/sabrout/opt/miniconda3/envs/weloop/lib/python3.10/site-packages (from torch->-r requirements.txt (line 19)) (3.1.2)\n",
      "Requirement already satisfied: fsspec in /Users/sabrout/opt/miniconda3/envs/weloop/lib/python3.10/site-packages (from torch->-r requirements.txt (line 19)) (2023.6.0)\n",
      "Requirement already satisfied: chardet in /Users/sabrout/opt/miniconda3/envs/weloop/lib/python3.10/site-packages (from unstructured->-r requirements.txt (line 24)) (5.2.0)\n",
      "Requirement already satisfied: filetype in /Users/sabrout/opt/miniconda3/envs/weloop/lib/python3.10/site-packages (from unstructured->-r requirements.txt (line 24)) (1.2.0)\n",
      "Requirement already satisfied: python-magic in /Users/sabrout/opt/miniconda3/envs/weloop/lib/python3.10/site-packages (from unstructured->-r requirements.txt (line 24)) (0.4.27)\n",
      "Requirement already satisfied: lxml in /Users/sabrout/opt/miniconda3/envs/weloop/lib/python3.10/site-packages (from unstructured->-r requirements.txt (line 24)) (4.9.3)\n",
      "Requirement already satisfied: nltk in /Users/sabrout/opt/miniconda3/envs/weloop/lib/python3.10/site-packages (from unstructured->-r requirements.txt (line 24)) (3.8.1)\n",
      "Requirement already satisfied: tabulate in /Users/sabrout/opt/miniconda3/envs/weloop/lib/python3.10/site-packages (from unstructured->-r requirements.txt (line 24)) (0.9.0)\n",
      "Requirement already satisfied: beautifulsoup4 in /Users/sabrout/opt/miniconda3/envs/weloop/lib/python3.10/site-packages (from unstructured->-r requirements.txt (line 24)) (4.12.2)\n",
      "Requirement already satisfied: emoji in /Users/sabrout/opt/miniconda3/envs/weloop/lib/python3.10/site-packages (from unstructured->-r requirements.txt (line 24)) (2.8.0)\n",
      "Requirement already satisfied: attrs>=17.3.0 in /Users/sabrout/opt/miniconda3/envs/weloop/lib/python3.10/site-packages (from aiohttp<4.0.0,>=3.8.3->langchain->-r requirements.txt (line 8)) (23.1.0)\n",
      "Requirement already satisfied: charset-normalizer<4.0,>=2.0 in /Users/sabrout/opt/miniconda3/envs/weloop/lib/python3.10/site-packages (from aiohttp<4.0.0,>=3.8.3->langchain->-r requirements.txt (line 8)) (3.2.0)\n",
      "Requirement already satisfied: multidict<7.0,>=4.5 in /Users/sabrout/opt/miniconda3/envs/weloop/lib/python3.10/site-packages (from aiohttp<4.0.0,>=3.8.3->langchain->-r requirements.txt (line 8)) (6.0.4)\n",
      "Requirement already satisfied: yarl<2.0,>=1.0 in /Users/sabrout/opt/miniconda3/envs/weloop/lib/python3.10/site-packages (from aiohttp<4.0.0,>=3.8.3->langchain->-r requirements.txt (line 8)) (1.9.2)\n",
      "Requirement already satisfied: frozenlist>=1.1.1 in /Users/sabrout/opt/miniconda3/envs/weloop/lib/python3.10/site-packages (from aiohttp<4.0.0,>=3.8.3->langchain->-r requirements.txt (line 8)) (1.4.0)\n",
      "Requirement already satisfied: aiosignal>=1.1.2 in /Users/sabrout/opt/miniconda3/envs/weloop/lib/python3.10/site-packages (from aiohttp<4.0.0,>=3.8.3->langchain->-r requirements.txt (line 8)) (1.3.1)\n",
      "Requirement already satisfied: marshmallow<4.0.0,>=3.18.0 in /Users/sabrout/opt/miniconda3/envs/weloop/lib/python3.10/site-packages (from dataclasses-json<0.6.0,>=0.5.7->langchain->-r requirements.txt (line 8)) (3.20.1)\n",
      "Requirement already satisfied: typing-inspect<1,>=0.4.0 in /Users/sabrout/opt/miniconda3/envs/weloop/lib/python3.10/site-packages (from dataclasses-json<0.6.0,>=0.5.7->langchain->-r requirements.txt (line 8)) (0.9.0)\n",
      "Requirement already satisfied: starlette<0.28.0,>=0.27.0 in /Users/sabrout/opt/miniconda3/envs/weloop/lib/python3.10/site-packages (from fastapi<0.100.0,>=0.95.2->chromadb->-r requirements.txt (line 4)) (0.27.0)\n",
      "Requirement already satisfied: jedi>=0.16 in /Users/sabrout/opt/miniconda3/envs/weloop/lib/python3.10/site-packages (from ipython<8.0,>=7.23.1->ipykernel==6.4.1->-r requirements.txt (line 6)) (0.19.0)\n",
      "Requirement already satisfied: decorator in /Users/sabrout/opt/miniconda3/envs/weloop/lib/python3.10/site-packages (from ipython<8.0,>=7.23.1->ipykernel==6.4.1->-r requirements.txt (line 6)) (5.1.1)\n",
      "Requirement already satisfied: pickleshare in /Users/sabrout/opt/miniconda3/envs/weloop/lib/python3.10/site-packages (from ipython<8.0,>=7.23.1->ipykernel==6.4.1->-r requirements.txt (line 6)) (0.7.5)\n",
      "Requirement already satisfied: prompt-toolkit!=3.0.0,!=3.0.1,<3.1.0,>=2.0.0 in /Users/sabrout/opt/miniconda3/envs/weloop/lib/python3.10/site-packages (from ipython<8.0,>=7.23.1->ipykernel==6.4.1->-r requirements.txt (line 6)) (3.0.39)\n",
      "Requirement already satisfied: pygments in /Users/sabrout/opt/miniconda3/envs/weloop/lib/python3.10/site-packages (from ipython<8.0,>=7.23.1->ipykernel==6.4.1->-r requirements.txt (line 6)) (2.16.1)\n",
      "Requirement already satisfied: backcall in /Users/sabrout/opt/miniconda3/envs/weloop/lib/python3.10/site-packages (from ipython<8.0,>=7.23.1->ipykernel==6.4.1->-r requirements.txt (line 6)) (0.2.0)\n",
      "Requirement already satisfied: pexpect>4.3 in /Users/sabrout/opt/miniconda3/envs/weloop/lib/python3.10/site-packages (from ipython<8.0,>=7.23.1->ipykernel==6.4.1->-r requirements.txt (line 6)) (4.8.0)\n",
      "Requirement already satisfied: entrypoints in /Users/sabrout/opt/miniconda3/envs/weloop/lib/python3.10/site-packages (from jupyter-client<8.0->ipykernel==6.4.1->-r requirements.txt (line 6)) (0.4)\n",
      "Requirement already satisfied: jupyter-core>=4.9.2 in /Users/sabrout/opt/miniconda3/envs/weloop/lib/python3.10/site-packages (from jupyter-client<8.0->ipykernel==6.4.1->-r requirements.txt (line 6)) (5.3.0)\n",
      "Requirement already satisfied: nest-asyncio>=1.5.4 in /Users/sabrout/opt/miniconda3/envs/weloop/lib/python3.10/site-packages (from jupyter-client<8.0->ipykernel==6.4.1->-r requirements.txt (line 6)) (1.5.6)\n",
      "Requirement already satisfied: pyzmq>=23.0 in /Users/sabrout/opt/miniconda3/envs/weloop/lib/python3.10/site-packages (from jupyter-client<8.0->ipykernel==6.4.1->-r requirements.txt (line 6)) (25.1.0)\n",
      "Requirement already satisfied: coloredlogs in /Users/sabrout/opt/miniconda3/envs/weloop/lib/python3.10/site-packages (from onnxruntime>=1.14.1->chromadb->-r requirements.txt (line 4)) (15.0.1)\n",
      "Requirement already satisfied: flatbuffers in /Users/sabrout/opt/miniconda3/envs/weloop/lib/python3.10/site-packages (from onnxruntime>=1.14.1->chromadb->-r requirements.txt (line 4)) (23.5.26)\n",
      "Requirement already satisfied: protobuf in /Users/sabrout/opt/miniconda3/envs/weloop/lib/python3.10/site-packages (from onnxruntime>=1.14.1->chromadb->-r requirements.txt (line 4)) (4.24.3)\n",
      "Requirement already satisfied: monotonic>=1.5 in /Users/sabrout/opt/miniconda3/envs/weloop/lib/python3.10/site-packages (from posthog>=2.4.0->chromadb->-r requirements.txt (line 4)) (1.6)\n",
      "Requirement already satisfied: backoff>=1.10.0 in /Users/sabrout/opt/miniconda3/envs/weloop/lib/python3.10/site-packages (from posthog>=2.4.0->chromadb->-r requirements.txt (line 4)) (2.2.1)\n",
      "Requirement already satisfied: certifi in /Users/sabrout/opt/miniconda3/envs/weloop/lib/python3.10/site-packages (from pulsar-client>=3.1.0->chromadb->-r requirements.txt (line 4)) (2023.7.22)\n",
      "Requirement already satisfied: idna<4,>=2.5 in /Users/sabrout/opt/miniconda3/envs/weloop/lib/python3.10/site-packages (from requests->transformers==4.30->-r requirements.txt (line 23)) (3.4)\n",
      "Requirement already satisfied: urllib3<3,>=1.21.1 in /Users/sabrout/opt/miniconda3/envs/weloop/lib/python3.10/site-packages (from requests->transformers==4.30->-r requirements.txt (line 23)) (2.0.4)\n",
      "Requirement already satisfied: click<9.0.0,>=7.1.1 in /Users/sabrout/opt/miniconda3/envs/weloop/lib/python3.10/site-packages (from typer>=0.9.0->chromadb->-r requirements.txt (line 4)) (8.1.7)\n",
      "Requirement already satisfied: h11>=0.8 in /Users/sabrout/opt/miniconda3/envs/weloop/lib/python3.10/site-packages (from uvicorn[standard]>=0.18.3->chromadb->-r requirements.txt (line 4)) (0.14.0)\n",
      "Requirement already satisfied: httptools>=0.5.0 in /Users/sabrout/opt/miniconda3/envs/weloop/lib/python3.10/site-packages (from uvicorn[standard]>=0.18.3->chromadb->-r requirements.txt (line 4)) (0.6.0)\n",
      "Requirement already satisfied: python-dotenv>=0.13 in /Users/sabrout/opt/miniconda3/envs/weloop/lib/python3.10/site-packages (from uvicorn[standard]>=0.18.3->chromadb->-r requirements.txt (line 4)) (1.0.0)\n",
      "Requirement already satisfied: uvloop!=0.15.0,!=0.15.1,>=0.14.0 in /Users/sabrout/opt/miniconda3/envs/weloop/lib/python3.10/site-packages (from uvicorn[standard]>=0.18.3->chromadb->-r requirements.txt (line 4)) (0.17.0)\n",
      "Requirement already satisfied: watchfiles>=0.13 in /Users/sabrout/opt/miniconda3/envs/weloop/lib/python3.10/site-packages (from uvicorn[standard]>=0.18.3->chromadb->-r requirements.txt (line 4)) (0.20.0)\n",
      "Requirement already satisfied: websockets>=10.4 in /Users/sabrout/opt/miniconda3/envs/weloop/lib/python3.10/site-packages (from uvicorn[standard]>=0.18.3->chromadb->-r requirements.txt (line 4)) (11.0.3)\n",
      "Requirement already satisfied: soupsieve>1.2 in /Users/sabrout/opt/miniconda3/envs/weloop/lib/python3.10/site-packages (from beautifulsoup4->unstructured->-r requirements.txt (line 24)) (2.5)\n",
      "Requirement already satisfied: MarkupSafe>=2.0 in /Users/sabrout/opt/miniconda3/envs/weloop/lib/python3.10/site-packages (from jinja2->torch->-r requirements.txt (line 19)) (2.1.3)\n",
      "Requirement already satisfied: mpmath>=0.19 in /Users/sabrout/opt/miniconda3/envs/weloop/lib/python3.10/site-packages (from sympy->torch->-r requirements.txt (line 19)) (1.3.0)\n",
      "Requirement already satisfied: parso<0.9.0,>=0.8.3 in /Users/sabrout/opt/miniconda3/envs/weloop/lib/python3.10/site-packages (from jedi>=0.16->ipython<8.0,>=7.23.1->ipykernel==6.4.1->-r requirements.txt (line 6)) (0.8.3)\n",
      "Requirement already satisfied: platformdirs>=2.5 in /Users/sabrout/opt/miniconda3/envs/weloop/lib/python3.10/site-packages (from jupyter-core>=4.9.2->jupyter-client<8.0->ipykernel==6.4.1->-r requirements.txt (line 6)) (3.10.0)\n",
      "Requirement already satisfied: ptyprocess>=0.5 in /Users/sabrout/opt/miniconda3/envs/weloop/lib/python3.10/site-packages (from pexpect>4.3->ipython<8.0,>=7.23.1->ipykernel==6.4.1->-r requirements.txt (line 6)) (0.7.0)\n",
      "Requirement already satisfied: wcwidth in /Users/sabrout/opt/miniconda3/envs/weloop/lib/python3.10/site-packages (from prompt-toolkit!=3.0.0,!=3.0.1,<3.1.0,>=2.0.0->ipython<8.0,>=7.23.1->ipykernel==6.4.1->-r requirements.txt (line 6)) (0.2.6)\n",
      "Requirement already satisfied: anyio<5,>=3.4.0 in /Users/sabrout/opt/miniconda3/envs/weloop/lib/python3.10/site-packages (from starlette<0.28.0,>=0.27.0->fastapi<0.100.0,>=0.95.2->chromadb->-r requirements.txt (line 4)) (4.0.0)\n",
      "Requirement already satisfied: mypy-extensions>=0.3.0 in /Users/sabrout/opt/miniconda3/envs/weloop/lib/python3.10/site-packages (from typing-inspect<1,>=0.4.0->dataclasses-json<0.6.0,>=0.5.7->langchain->-r requirements.txt (line 8)) (1.0.0)\n",
      "Requirement already satisfied: humanfriendly>=9.1 in /Users/sabrout/opt/miniconda3/envs/weloop/lib/python3.10/site-packages (from coloredlogs->onnxruntime>=1.14.1->chromadb->-r requirements.txt (line 4)) (10.0)\n",
      "Requirement already satisfied: sniffio>=1.1 in /Users/sabrout/opt/miniconda3/envs/weloop/lib/python3.10/site-packages (from anyio<5,>=3.4.0->starlette<0.28.0,>=0.27.0->fastapi<0.100.0,>=0.95.2->chromadb->-r requirements.txt (line 4)) (1.3.0)\n",
      "Requirement already satisfied: exceptiongroup>=1.0.2 in /Users/sabrout/opt/miniconda3/envs/weloop/lib/python3.10/site-packages (from anyio<5,>=3.4.0->starlette<0.28.0,>=0.27.0->fastapi<0.100.0,>=0.95.2->chromadb->-r requirements.txt (line 4)) (1.1.3)\n"
     ]
    }
   ],
   "source": [
    "!pip install -r requirements.txt"
   ]
  },
  {
   "cell_type": "code",
   "execution_count": 2,
   "metadata": {},
   "outputs": [],
   "source": [
    "import json\n",
    "import os\n",
    "import textwrap\n",
    "from pathlib import Path\n",
    "from langchain.chains import RetrievalQA\n",
    "from langchain.chat_models import ChatOpenAI\n",
    "from langchain.document_loaders import TextLoader, PyPDFLoader, DirectoryLoader\n",
    "from langchain.embeddings.openai import OpenAIEmbeddings\n",
    "from langchain.llms import OpenAI\n",
    "from langchain.text_splitter import RecursiveCharacterTextSplitter\n",
    "from langchain.vectorstores import Chroma\n"
   ]
  },
  {
   "cell_type": "code",
   "execution_count": 3,
   "metadata": {},
   "outputs": [],
   "source": [
    "# set my personal temporary API key for the sake of this technical test\n",
    "with open(Path('config/openai-config.json')) as json_file:\n",
    "    os.environ['OPENAI_API_KEY'] = json.load(json_file)['OPENAI_API_KEY']"
   ]
  },
  {
   "cell_type": "markdown",
   "metadata": {},
   "source": [
    "Preprocess text files:"
   ]
  },
  {
   "cell_type": "code",
   "execution_count": 4,
   "metadata": {},
   "outputs": [
    {
     "data": {
      "text/plain": [
       "17"
      ]
     },
     "execution_count": 4,
     "metadata": {},
     "output_type": "execute_result"
    }
   ],
   "source": [
    "# load and process the text files\n",
    "\n",
    "loader = DirectoryLoader('./data/text/', glob=\"./*.txt\", loader_cls=TextLoader)\n",
    "documents = loader.load()\n",
    "len(documents)"
   ]
  },
  {
   "cell_type": "code",
   "execution_count": 5,
   "metadata": {},
   "outputs": [
    {
     "data": {
      "text/plain": [
       "32"
      ]
     },
     "execution_count": 5,
     "metadata": {},
     "output_type": "execute_result"
    }
   ],
   "source": [
    "# splitting text into chunks\n",
    "\n",
    "text_splitter = RecursiveCharacterTextSplitter(chunk_size=1000, chunk_overlap=200)\n",
    "texts = text_splitter.split_documents(documents)\n",
    "len(texts)"
   ]
  },
  {
   "cell_type": "code",
   "execution_count": 6,
   "metadata": {},
   "outputs": [
    {
     "data": {
      "text/plain": [
       "Document(page_content=\"2. Cochez le bouton vert pour activer la fonctionnalité de groupes utilisateurs.\\n\\n3. Créez les noms de vos groupes.\\n\\n4. Sélectionnez les utilisateurs que vous souhaitez ajouter à un groupe.\\n\\n5. Choisissez le groupe dans lequel vous souhaitez ajouter vos utilisateurs.\\n\\nOption 2 :\\n\\nSi vous préférez automatiser la création de groupes via le SSO (Single Sign-On), veuillez contacter votre CSM (Customer Success Manager) pour convenir d'un rendez-vous avec notre équipe technique.\", metadata={'source': 'data/text/Créer des groupes utilisateurs.txt'})"
      ]
     },
     "execution_count": 6,
     "metadata": {},
     "output_type": "execute_result"
    }
   ],
   "source": [
    "# chunk example\n",
    "texts[22]"
   ]
  },
  {
   "cell_type": "code",
   "execution_count": 7,
   "metadata": {},
   "outputs": [],
   "source": [
    "# download emgeddings from OpenAI\n",
    "embeddings = OpenAIEmbeddings()"
   ]
  },
  {
   "cell_type": "code",
   "execution_count": 8,
   "metadata": {},
   "outputs": [],
   "source": [
    "# embed and store the texts\n",
    "# supplying a presist_dictectory will store the embeddings on disk\n",
    "presist_directory = './data/db'\n",
    "\n",
    "# here the new embeddings being used\n",
    "embeddings = embeddings\n",
    "\n",
    "vectordb = Chroma.from_documents(documents=texts, embedding=embeddings, persist_directory=presist_directory)"
   ]
  },
  {
   "cell_type": "code",
   "execution_count": 9,
   "metadata": {},
   "outputs": [
    {
     "data": {
      "text/plain": [
       "4"
      ]
     },
     "execution_count": 9,
     "metadata": {},
     "output_type": "execute_result"
    }
   ],
   "source": [
    "# set retreiver\n",
    "retriever = vectordb.as_retriever()\n",
    "\n",
    "# test retreiver\n",
    "docs = retriever.get_relevant_documents(\"WeLoop est quoi ?\")\n",
    "len(docs)"
   ]
  },
  {
   "cell_type": "code",
   "execution_count": 10,
   "metadata": {},
   "outputs": [
    {
     "data": {
      "text/plain": [
       "Document(page_content=\"Titre : WeLoop c'est quoi ?\\n\\nDescription: WeLoop est une plateforme Saas basée sur la communauté et l'expérience utilisateur, proposant une solution comportant deux interfaces pour les utilisateurs finaux et les administrateurs.\\n\\nInterface Utilisateurs (Widget):\\n- L'interface pour les utilisateurs finaux s'intègre facilement à vos applications métier.\\n\\nInterface Administrateurs (Back Office):\\n- Les administrateurs de la solution ont accès à une interface spécifique pour gérer les projets et les interactions.\\n- Deux niveaux d'administrateurs existent :\\n  1. Les Super Admin qui ont accès à tous les projets au sein de l'organisation.\\n  2. Les Admin qui sont les responsables opérationnels d'un ou plusieurs projets.\", metadata={'source': 'data/text/WeLoop c_est quoi _.txt'})"
      ]
     },
     "execution_count": 10,
     "metadata": {},
     "output_type": "execute_result"
    }
   ],
   "source": [
    "# document example\n",
    "docs[0]"
   ]
  },
  {
   "cell_type": "code",
   "execution_count": 11,
   "metadata": {},
   "outputs": [],
   "source": [
    "# create the chain to answer quetions\n",
    "\n",
    "llm = ChatOpenAI(temperature=0.0) # temperature is 0 to avoid irrelevant responses\n",
    "\n",
    "qa_chain = RetrievalQA.from_chain_type(llm=llm, chain_type=\"stuff\", retriever=retriever, return_source_documents=True)"
   ]
  },
  {
   "cell_type": "code",
   "execution_count": 12,
   "metadata": {},
   "outputs": [
    {
     "name": "stdout",
     "output_type": "stream",
     "text": [
      "Use the following pieces of context to answer the users question. \n",
      "If you don't know the answer, just say that you don't know, don't try to make up an answer.\n",
      "----------------\n",
      "{context}\n"
     ]
    }
   ],
   "source": [
    "# existing prompt template\n",
    "print(qa_chain.combine_documents_chain.llm_chain.prompt.messages[0].prompt.template)"
   ]
  },
  {
   "cell_type": "code",
   "execution_count": 13,
   "metadata": {},
   "outputs": [],
   "source": [
    "# set custom WeLoop prompt template\n",
    "qa_chain.combine_documents_chain.llm_chain.prompt.messages[0].prompt.template = \"\"\"\"\n",
    "Tu permettes à un utilisateur poser des questions concernant l'outil Weloop. Si une ressource pertinente existe tu dois être proposé à l'utilisateur sinon tu chercheras à comprendre le problème ou la question de l'utilisateur afin de formuler un résumé à destination du support client Weloop.\n",
    "----------------\n",
    "{context}\n",
    "\"\"\""
   ]
  },
  {
   "cell_type": "code",
   "execution_count": 14,
   "metadata": {},
   "outputs": [],
   "source": [
    "# cite sources\n",
    "\n",
    "def wrap_text_preserve_newlines(text, width=110):\n",
    "    # split the input text into lines based on newline characters\n",
    "    lines = text.split('\\n')\n",
    "\n",
    "    # wrap each line individually\n",
    "    wrapped_lines = [textwrap.fill(line, width=width) for line in lines]\n",
    "\n",
    "    # join the wrapped lines back together using newline characters\n",
    "    wrapped_text = '\\n'.join(wrapped_lines)\n",
    "\n",
    "    return wrapped_text\n",
    "\n",
    "# process response\n",
    "def process_llm_response(llm_response):\n",
    "    # response\n",
    "    print(wrap_text_preserve_newlines(llm_response['result']))\n",
    "    # sources\n",
    "    print('\\n\\nSources:')\n",
    "    for source in llm_response['source_documents']:\n",
    "        print(source.metadata['source'])"
   ]
  },
  {
   "cell_type": "code",
   "execution_count": 15,
   "metadata": {},
   "outputs": [
    {
     "name": "stdout",
     "output_type": "stream",
     "text": [
      "Pour utiliser WeLoop, vous devez suivre les étapes suivantes :\n",
      "\n",
      "1. Créer un compte : Rendez-vous sur le site de WeLoop et créez un compte en fournissant les informations\n",
      "nécessaires.\n",
      "\n",
      "2. Configurer votre espace de travail : Une fois connecté, vous pouvez configurer votre espace de travail en\n",
      "ajoutant des projets, des utilisateurs et en personnalisant les paramètres selon vos besoins.\n",
      "\n",
      "3. Intégrer l'interface utilisateur (Widget) : Pour permettre aux utilisateurs finaux d'interagir avec WeLoop,\n",
      "vous devez intégrer l'interface utilisateur (Widget) dans vos applications métier. Cela peut être fait en\n",
      "utilisant le code fourni par WeLoop.\n",
      "\n",
      "4. Créer des groupes utilisateurs : Vous pouvez créer des groupes utilisateurs en fonction de différents\n",
      "critères tels que la zone géographique, l'usage de l'application, le département de l'entreprise, etc. Cela\n",
      "facilitera les interactions entre les utilisateurs partageant des thématiques communes.\n",
      "\n",
      "5. Collecter les feedbacks des utilisateurs : Les utilisateurs finaux peuvent maintenant donner leur feedback\n",
      "via l'interface utilisateur (Widget). Vous pouvez collecter ces feedbacks et les gérer dans le Back Office de\n",
      "WeLoop.\n",
      "\n",
      "6. Utiliser la messagerie instantanée : WeLoop propose une messagerie instantanée pour échanger en direct avec\n",
      "la communauté d'utilisateurs, comprendre et qualifier leurs besoins.\n",
      "\n",
      "7. Gérer les feedbacks : Dans le Back Office, vous pouvez gérer les feedbacks grâce au KANBAN personnalisable.\n",
      "Vous pouvez créer des statuts correspondants à vos processus et gérer le cycle de vie des feedbacks, de la\n",
      "réception à l'archivage.\n",
      "\n",
      "8. Utiliser les fonctionnalités supplémentaires : WeLoop offre également des fonctionnalités supplémentaires\n",
      "telles que la création de sondages, la publication de Release Notes, la FAQ pour répondre aux questions\n",
      "fréquentes, et l'ajout de notes informatives.\n",
      "\n",
      "En suivant ces étapes, vous pourrez utiliser WeLoop pour améliorer l'expérience utilisateur et la satisfaction\n",
      "au sein de votre organisation.\n",
      "\n",
      "\n",
      "Sources:\n",
      "data/text/WeLoop c_est quoi _.txt\n",
      "data/text/Créer des groupes utilisateurs.txt\n",
      "data/text/Synchroniser votre compte WeLoop à vos outils ITSM.txt\n",
      "data/text/WeLoop c_est quoi _.txt\n"
     ]
    }
   ],
   "source": [
    "# full example\n",
    "query = \"Comment utiliser WeLoop ?\"\n",
    "llm_response = qa_chain(query)\n",
    "process_llm_response(llm_response)"
   ]
  },
  {
   "cell_type": "code",
   "execution_count": 16,
   "metadata": {},
   "outputs": [
    {
     "name": "stdout",
     "output_type": "stream",
     "text": [
      "La couleur officielle de WeLoop est le bleu.\n",
      "\n",
      "\n",
      "Sources:\n",
      "data/text/Customizer votre widget.txt\n",
      "data/text/WeLoop c_est quoi _.txt\n",
      "data/text/WeLoop c_est quoi _.txt\n",
      "data/text/Créer des groupes utilisateurs.txt\n"
     ]
    }
   ],
   "source": [
    "# example for irrelevant prompts\n",
    "query = \"Quelle est la couleur officielle de WeLoop ?\"\n",
    "llm_response = qa_chain(query)\n",
    "process_llm_response(llm_response)"
   ]
  },
  {
   "cell_type": "code",
   "execution_count": 17,
   "metadata": {},
   "outputs": [
    {
     "name": "stdout",
     "output_type": "stream",
     "text": [
      "WeLoop n'a pas d'animal officiel. C'est une plateforme Saas basée sur la communauté et l'expérience\n",
      "utilisateur, et n'est pas associée à un animal spécifique.\n",
      "\n",
      "\n",
      "Sources:\n",
      "data/text/WeLoop c_est quoi _.txt\n",
      "data/text/Customizer votre widget.txt\n",
      "data/text/Identification de tous les utilisateurs du Widget !.txt\n",
      "data/text/WeLoop c_est quoi _.txt\n"
     ]
    }
   ],
   "source": [
    "# example for irrelevant prompts\n",
    "query = \"Quel est l'animal officielle de WeLoop ?\"\n",
    "llm_response = qa_chain(query)\n",
    "process_llm_response(llm_response)"
   ]
  },
  {
   "cell_type": "code",
   "execution_count": 19,
   "metadata": {},
   "outputs": [
    {
     "name": "stdout",
     "output_type": "stream",
     "text": [
      "Voici les étapes pour personnaliser l'interface utilisateur avec WeLoop :\n",
      "\n",
      "1. Accédez à votre espace de travail WeLoop.\n",
      "2. Rendez-vous dans le module \"Customize\".\n",
      "3. Configurez l'interface utilisateur en accord avec l'identité visuelle de votre projet ou de votre\n",
      "entreprise.\n",
      "4. Vous pouvez modifier les couleurs, les polices, les logos et les images pour correspondre à votre marque.\n",
      "5. Créez les messages à diffuser à chaque étape du parcours utilisateur.\n",
      "6. Vous pouvez personnaliser les messages de bienvenue, les notifications, les invitations et les rappels.\n",
      "7. Assurez-vous de sauvegarder vos modifications.\n",
      "8. Une fois les modifications enregistrées, l'interface utilisateur sera personnalisée selon vos préférences.\n",
      "\n",
      "Grâce à WeLoop, vous pouvez bénéficier d'une personnalisation complète de l'interface utilisateur, vous\n",
      "permettant ainsi de promouvoir votre propre marque tout en offrant une expérience utilisateur cohérente et\n",
      "engageante.\n",
      "\n",
      "\n",
      "Sources:\n",
      "data/text/Customizer votre widget.txt\n",
      "data/text/WeLoop c_est quoi _.txt\n",
      "data/text/Créer des groupes utilisateurs.txt\n",
      "data/text/WeLoop c_est quoi _.txt\n"
     ]
    }
   ],
   "source": [
    "# example for irrelevant prompts\n",
    "query = \"Quelles sont les étapes pour la personnalisation de l'interface utlisateur WeLoop ?\"\n",
    "llm_response = qa_chain(query)\n",
    "process_llm_response(llm_response)"
   ]
  },
  {
   "cell_type": "code",
   "execution_count": null,
   "metadata": {},
   "outputs": [],
   "source": []
  }
 ],
 "metadata": {
  "kernelspec": {
   "display_name": "weloop",
   "language": "python",
   "name": "python3"
  },
  "language_info": {
   "codemirror_mode": {
    "name": "ipython",
    "version": 3
   },
   "file_extension": ".py",
   "mimetype": "text/x-python",
   "name": "python",
   "nbconvert_exporter": "python",
   "pygments_lexer": "ipython3",
   "version": "3.10.13"
  },
  "orig_nbformat": 4
 },
 "nbformat": 4,
 "nbformat_minor": 2
}
